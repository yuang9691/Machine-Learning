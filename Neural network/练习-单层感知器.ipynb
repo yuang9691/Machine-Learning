{
 "cells": [
  {
   "cell_type": "code",
   "execution_count": 1,
   "id": "a2712e62",
   "metadata": {},
   "outputs": [],
   "source": [
    "import numpy as np\n",
    "import matplotlib.pyplot as plt"
   ]
  },
  {
   "cell_type": "code",
   "execution_count": 2,
   "id": "511ba7a4",
   "metadata": {},
   "outputs": [
    {
     "name": "stdout",
     "output_type": "stream",
     "text": [
      "[[-0.2363955 ]\n",
      " [ 0.66325942]\n",
      " [-0.0073097 ]]\n"
     ]
    }
   ],
   "source": [
    "#数据\n",
    "X = np.array([[1,3,3],\n",
    "              [1,4,3],\n",
    "              [1,1,1],\n",
    "              [1,0,2]])\n",
    "#标签\n",
    "Y = np.array([[1],\n",
    "              [1],\n",
    "              [-1],\n",
    "              [-1]])\n",
    "\n",
    "#权值初始化，三行一列，-1到1\n",
    "W =(np.random.random([3,1])-0.5)*2\n",
    "print(W)\n",
    "\n",
    "#学习率\n",
    "lr = 0.11\n",
    "#输出\n",
    "O = 0"
   ]
  },
  {
   "cell_type": "code",
   "execution_count": 3,
   "id": "49638d21",
   "metadata": {},
   "outputs": [],
   "source": [
    "def update():\n",
    "    global X,Y,W,O\n",
    "    O = np.sign(np.dot(X,W))\n",
    "    W_C = lr*(X.T.dot(Y-O))/int(X.shape[0])\n",
    "    W = W+W_C"
   ]
  },
  {
   "cell_type": "code",
   "execution_count": 4,
   "id": "ec2a58f5",
   "metadata": {},
   "outputs": [
    {
     "name": "stdout",
     "output_type": "stream",
     "text": [
      "[[-0.2913955 ]\n",
      " [ 0.60825942]\n",
      " [-0.0623097 ]]\n",
      "0\n",
      "[[-0.3463955 ]\n",
      " [ 0.55325942]\n",
      " [-0.1173097 ]]\n",
      "1\n",
      "[[-0.4013955 ]\n",
      " [ 0.49825942]\n",
      " [-0.1723097 ]]\n",
      "2\n",
      "Finished\n",
      "epoch: 2\n",
      "k= [2.89165036]\n",
      "b= [-2.32950024]\n"
     ]
    },
    {
     "data": {
      "image/png": "[encoded data removed]",
      "text/plain": [
       "<Figure size 432x288 with 1 Axes>"
      ]
     },
     "metadata": {
      "needs_background": "light"
     },
     "output_type": "display_data"
    }
   ],
   "source": [
    "for i in range(100):\n",
    "    update()#更新权值\n",
    "    print(W)#输出权值\n",
    "    print(i)#输出迭代次数\n",
    "    O = np.sign(np.dot(X,W))#计算当前输出\n",
    "    if (O==Y).all():\n",
    "        print('Finished')\n",
    "        print('epoch:',i)\n",
    "        break\n",
    "\n",
    "#正样本\n",
    "x1 = [3,4]\n",
    "y1 = [3,3]\n",
    "#负样本\n",
    "x2 = [1,0]\n",
    "y2 = [1,2]\n",
    "\n",
    "#计算分割线的斜率以及截距\n",
    "b = -W[0]/W[2]\n",
    "k = -W[1]/W[2]\n",
    "print('k=',k)\n",
    "print('b=',b)\n",
    "\n",
    "#画图\n",
    "xdata = (0,5)\n",
    "plt.figure()\n",
    "plt.plot(xdata,xdata*k+b,'r')\n",
    "plt.scatter(x1,y1,c='b')\n",
    "plt.scatter(x2,y2,c='g')\n",
    "plt.show()"
   ]
  },
  {
   "cell_type": "code",
   "execution_count": null,
   "id": "5eb44fb3",
   "metadata": {},
   "outputs": [],
   "source": []
  },
  {
   "cell_type": "code",
   "execution_count": null,
   "id": "63da8846",
   "metadata": {},
   "outputs": [],
   "source": []
  }
 ],
 "metadata": {
  "kernelspec": {
   "display_name": "Python 3 (ipykernel)",
   "language": "python",
   "name": "python3"
  },
  "language_info": {
   "codemirror_mode": {
    "name": "ipython",
    "version": 3
   },
   "file_extension": ".py",
   "mimetype": "text/x-python",
   "name": "python",
   "nbconvert_exporter": "python",
   "pygments_lexer": "ipython3",
   "version": "3.8.13"
  }
 },
 "nbformat": 4,
 "nbformat_minor": 5
}
